{
 "cells": [
  {
   "cell_type": "code",
   "execution_count": 1,
   "metadata": {
    "id": "Kux2-AW25MTh"
   },
   "outputs": [],
   "source": [
    "import numpy as np\n",
    "import pandas as pd\n",
    "import matplotlib.pyplot as plt"
   ]
  },
  {
   "cell_type": "code",
   "execution_count": 2,
   "metadata": {
    "id": "YC13U0-05TG1"
   },
   "outputs": [],
   "source": [
    "train_data = pd.read_csv(\"Dataset.csv\")"
   ]
  },
  {
   "cell_type": "code",
   "execution_count": 3,
   "metadata": {
    "colab": {
     "base_uri": "https://localhost:8080/",
     "height": 684
    },
    "executionInfo": {
     "elapsed": 351,
     "status": "ok",
     "timestamp": 1676121243816,
     "user": {
      "displayName": "JAYARAJ VISWANATHAN",
      "userId": "05592669160963016277"
     },
     "user_tz": -330
    },
    "id": "8M99ixAZ5evP",
    "outputId": "3c054bef-942b-4aa8-99f8-244d908338d0"
   },
   "outputs": [
    {
     "name": "stdout",
     "output_type": "stream",
     "text": [
      "<class 'pandas.core.frame.DataFrame'>\n",
      "RangeIndex: 2200 entries, 0 to 2199\n",
      "Data columns (total 8 columns):\n",
      " #   Column       Non-Null Count  Dtype  \n",
      "---  ------       --------------  -----  \n",
      " 0   N_SOIL       2200 non-null   int64  \n",
      " 1   P_SOIL       2200 non-null   int64  \n",
      " 2   K_SOIL       2200 non-null   int64  \n",
      " 3   TEMPERATURE  2200 non-null   float64\n",
      " 4   HUMIDITY     2200 non-null   float64\n",
      " 5   ph           2200 non-null   float64\n",
      " 6   RAINFALL     2200 non-null   float64\n",
      " 7   CROP         2200 non-null   object \n",
      "dtypes: float64(4), int64(3), object(1)\n",
      "memory usage: 137.6+ KB\n"
     ]
    },
    {
     "data": {
      "text/html": [
       "<div>\n",
       "<style scoped>\n",
       "    .dataframe tbody tr th:only-of-type {\n",
       "        vertical-align: middle;\n",
       "    }\n",
       "\n",
       "    .dataframe tbody tr th {\n",
       "        vertical-align: top;\n",
       "    }\n",
       "\n",
       "    .dataframe thead th {\n",
       "        text-align: right;\n",
       "    }\n",
       "</style>\n",
       "<table border=\"1\" class=\"dataframe\">\n",
       "  <thead>\n",
       "    <tr style=\"text-align: right;\">\n",
       "      <th></th>\n",
       "      <th>N_SOIL</th>\n",
       "      <th>P_SOIL</th>\n",
       "      <th>K_SOIL</th>\n",
       "      <th>TEMPERATURE</th>\n",
       "      <th>HUMIDITY</th>\n",
       "      <th>ph</th>\n",
       "      <th>RAINFALL</th>\n",
       "      <th>CROP</th>\n",
       "    </tr>\n",
       "  </thead>\n",
       "  <tbody>\n",
       "    <tr>\n",
       "      <th>0</th>\n",
       "      <td>90</td>\n",
       "      <td>42</td>\n",
       "      <td>43</td>\n",
       "      <td>20.879744</td>\n",
       "      <td>82.002744</td>\n",
       "      <td>6.502985</td>\n",
       "      <td>202.935536</td>\n",
       "      <td>Rice</td>\n",
       "    </tr>\n",
       "    <tr>\n",
       "      <th>1</th>\n",
       "      <td>85</td>\n",
       "      <td>58</td>\n",
       "      <td>41</td>\n",
       "      <td>21.770462</td>\n",
       "      <td>80.319644</td>\n",
       "      <td>7.038096</td>\n",
       "      <td>226.655537</td>\n",
       "      <td>Rice</td>\n",
       "    </tr>\n",
       "    <tr>\n",
       "      <th>2</th>\n",
       "      <td>60</td>\n",
       "      <td>55</td>\n",
       "      <td>44</td>\n",
       "      <td>23.004459</td>\n",
       "      <td>82.320763</td>\n",
       "      <td>7.840207</td>\n",
       "      <td>263.964248</td>\n",
       "      <td>Rice</td>\n",
       "    </tr>\n",
       "    <tr>\n",
       "      <th>3</th>\n",
       "      <td>74</td>\n",
       "      <td>35</td>\n",
       "      <td>40</td>\n",
       "      <td>26.491096</td>\n",
       "      <td>80.158363</td>\n",
       "      <td>6.980401</td>\n",
       "      <td>242.864034</td>\n",
       "      <td>Rice</td>\n",
       "    </tr>\n",
       "    <tr>\n",
       "      <th>4</th>\n",
       "      <td>78</td>\n",
       "      <td>42</td>\n",
       "      <td>42</td>\n",
       "      <td>20.130175</td>\n",
       "      <td>81.604873</td>\n",
       "      <td>7.628473</td>\n",
       "      <td>262.717340</td>\n",
       "      <td>Rice</td>\n",
       "    </tr>\n",
       "    <tr>\n",
       "      <th>...</th>\n",
       "      <td>...</td>\n",
       "      <td>...</td>\n",
       "      <td>...</td>\n",
       "      <td>...</td>\n",
       "      <td>...</td>\n",
       "      <td>...</td>\n",
       "      <td>...</td>\n",
       "      <td>...</td>\n",
       "    </tr>\n",
       "    <tr>\n",
       "      <th>2195</th>\n",
       "      <td>107</td>\n",
       "      <td>34</td>\n",
       "      <td>32</td>\n",
       "      <td>26.774637</td>\n",
       "      <td>66.413269</td>\n",
       "      <td>6.780064</td>\n",
       "      <td>177.774507</td>\n",
       "      <td>Coffee</td>\n",
       "    </tr>\n",
       "    <tr>\n",
       "      <th>2196</th>\n",
       "      <td>99</td>\n",
       "      <td>15</td>\n",
       "      <td>27</td>\n",
       "      <td>27.417112</td>\n",
       "      <td>56.636362</td>\n",
       "      <td>6.086922</td>\n",
       "      <td>127.924610</td>\n",
       "      <td>Coffee</td>\n",
       "    </tr>\n",
       "    <tr>\n",
       "      <th>2197</th>\n",
       "      <td>118</td>\n",
       "      <td>33</td>\n",
       "      <td>30</td>\n",
       "      <td>24.131797</td>\n",
       "      <td>67.225123</td>\n",
       "      <td>6.362608</td>\n",
       "      <td>173.322839</td>\n",
       "      <td>Coffee</td>\n",
       "    </tr>\n",
       "    <tr>\n",
       "      <th>2198</th>\n",
       "      <td>117</td>\n",
       "      <td>32</td>\n",
       "      <td>34</td>\n",
       "      <td>26.272418</td>\n",
       "      <td>52.127394</td>\n",
       "      <td>6.758793</td>\n",
       "      <td>127.175293</td>\n",
       "      <td>Coffee</td>\n",
       "    </tr>\n",
       "    <tr>\n",
       "      <th>2199</th>\n",
       "      <td>104</td>\n",
       "      <td>18</td>\n",
       "      <td>30</td>\n",
       "      <td>23.603016</td>\n",
       "      <td>60.396475</td>\n",
       "      <td>6.779833</td>\n",
       "      <td>140.937041</td>\n",
       "      <td>Coffee</td>\n",
       "    </tr>\n",
       "  </tbody>\n",
       "</table>\n",
       "<p>2200 rows × 8 columns</p>\n",
       "</div>"
      ],
      "text/plain": [
       "      N_SOIL  P_SOIL  K_SOIL  TEMPERATURE   HUMIDITY        ph    RAINFALL  \\\n",
       "0         90      42      43    20.879744  82.002744  6.502985  202.935536   \n",
       "1         85      58      41    21.770462  80.319644  7.038096  226.655537   \n",
       "2         60      55      44    23.004459  82.320763  7.840207  263.964248   \n",
       "3         74      35      40    26.491096  80.158363  6.980401  242.864034   \n",
       "4         78      42      42    20.130175  81.604873  7.628473  262.717340   \n",
       "...      ...     ...     ...          ...        ...       ...         ...   \n",
       "2195     107      34      32    26.774637  66.413269  6.780064  177.774507   \n",
       "2196      99      15      27    27.417112  56.636362  6.086922  127.924610   \n",
       "2197     118      33      30    24.131797  67.225123  6.362608  173.322839   \n",
       "2198     117      32      34    26.272418  52.127394  6.758793  127.175293   \n",
       "2199     104      18      30    23.603016  60.396475  6.779833  140.937041   \n",
       "\n",
       "        CROP  \n",
       "0       Rice  \n",
       "1       Rice  \n",
       "2       Rice  \n",
       "3       Rice  \n",
       "4       Rice  \n",
       "...      ...  \n",
       "2195  Coffee  \n",
       "2196  Coffee  \n",
       "2197  Coffee  \n",
       "2198  Coffee  \n",
       "2199  Coffee  \n",
       "\n",
       "[2200 rows x 8 columns]"
      ]
     },
     "execution_count": 3,
     "metadata": {},
     "output_type": "execute_result"
    }
   ],
   "source": [
    "train_data.head()\n",
    "train_data.info()\n",
    "train_data.isnull().any()\n",
    "train_data"
   ]
  },
  {
   "cell_type": "code",
   "execution_count": 4,
   "metadata": {
    "colab": {
     "base_uri": "https://localhost:8080/"
    },
    "executionInfo": {
     "elapsed": 395,
     "status": "ok",
     "timestamp": 1676121262103,
     "user": {
      "displayName": "JAYARAJ VISWANATHAN",
      "userId": "05592669160963016277"
     },
     "user_tz": -330
    },
    "id": "bjjOat3W5exq",
    "outputId": "df4f15e0-31e1-4958-8cc5-09bfe65856e3"
   },
   "outputs": [
    {
     "name": "stdout",
     "output_type": "stream",
     "text": [
      "X train shape:  (2200, 7)\n",
      "y train shape:  (2200, 1)\n"
     ]
    }
   ],
   "source": [
    "X_train = train_data.iloc[:, :-1]\n",
    "y_train = train_data.iloc[:, -1:]\n",
    "print(\"X train shape: \",X_train.shape)\n",
    "print(\"y train shape: \",y_train.shape)"
   ]
  },
  {
   "cell_type": "code",
   "execution_count": 5,
   "metadata": {
    "colab": {
     "base_uri": "https://localhost:8080/"
    },
    "executionInfo": {
     "elapsed": 339,
     "status": "ok",
     "timestamp": 1676121266556,
     "user": {
      "displayName": "JAYARAJ VISWANATHAN",
      "userId": "05592669160963016277"
     },
     "user_tz": -330
    },
    "id": "0Cnmz_TD5e0j",
    "outputId": "33351d02-2ebd-4612-d4cc-d0ae1c627d4e"
   },
   "outputs": [
    {
     "name": "stdout",
     "output_type": "stream",
     "text": [
      "Standardized array:  [-0.53531619 -0.46806733 -0.52308913  1.18564322 -0.36719405  2.13935429\n",
      " -0.5169756  -0.91435521]\n",
      "Normalized array:  [1.24140411e+02 1.46140411e+02 1.28140411e+02 6.87140411e+02\n",
      " 1.79140411e+02 9.99140411e+02 1.30140411e+02 1.40410959e-01]\n"
     ]
    }
   ],
   "source": [
    "x = np.array([1,23,5,564,56,876,7,-123])\n",
    "\n",
    "standardized_X = (x - np.mean(x)) / np.std(x)\n",
    "normalized_X = (x-np.min(x) / np.max(x) - np.min(x))\n",
    "print(\"Standardized array: \",standardized_X)\n",
    "print(\"Normalized array: \",normalized_X )"
   ]
  },
  {
   "cell_type": "code",
   "execution_count": 6,
   "metadata": {
    "id": "fiSjuOby5e27"
   },
   "outputs": [],
   "source": [
    "from sklearn.preprocessing import StandardScaler\n",
    "stds = StandardScaler()\n",
    "x = x.reshape(-1,1)  # for sklearn methods. they use two dimensional vectors\n",
    "x = stds.fit_transform(x)"
   ]
  },
  {
   "cell_type": "code",
   "execution_count": 7,
   "metadata": {
    "id": "ujadc0eW5e5A"
   },
   "outputs": [],
   "source": [
    "class NeuralNet(object):\n",
    "    def __init__(self):\n",
    "        # Generate random numbers\n",
    "        np.random.seed(1)\n",
    "        \n",
    "        # Assign random weights to a 3 * 1 matrix\n",
    "        self.synaptic_weights = 2 * np.random.random((3, 1)) - 1\n",
    "        \n",
    "    # The sigmoid function method\n",
    "    def _sigmoid(self,x):\n",
    "        return 1 / (1 + np.exp(-x))\n",
    "    \n",
    "    # Derivative sigmoid\n",
    "    def derivative_sigmoid(self, x):\n",
    "        return x * (1 - x)\n",
    "    \n",
    "    # Train the neural network and adjust the weights each time\n",
    "    def train(self, inputs, outputs, iteration_number):\n",
    "        for iteration in range(iteration_number):     \n",
    "        \n",
    "            # Pass the training set through network\n",
    "            output = self.learn(inputs)\n",
    "        \n",
    "            # Calculate the error\n",
    "            error = outputs - output\n",
    "        \n",
    "            # Adjust the weights by a factor\n",
    "            factor = np.dot(inputs.T, error * self.derivative_sigmoid(output))\n",
    "            self.synaptic_weights += factor\n",
    "        \n",
    "    # calculate z    \n",
    "    def learn(self, test_inputs):\n",
    "        return self._sigmoid(np.dot(test_inputs, self.synaptic_weights))"
   ]
  },
  {
   "cell_type": "code",
   "execution_count": 8,
   "metadata": {
    "colab": {
     "base_uri": "https://localhost:8080/"
    },
    "executionInfo": {
     "elapsed": 331,
     "status": "ok",
     "timestamp": 1676121300038,
     "user": {
      "displayName": "JAYARAJ VISWANATHAN",
      "userId": "05592669160963016277"
     },
     "user_tz": -330
    },
    "id": "-4Mlvkve5e7O",
    "outputId": "30b290f7-ee2f-48a5-b635-32d08021af85"
   },
   "outputs": [
    {
     "name": "stdout",
     "output_type": "stream",
     "text": [
      "Our test example output is: 1\n"
     ]
    }
   ],
   "source": [
    "# Initialize\n",
    "neural_net = NeuralNet()\n",
    "\n",
    "# The training set\n",
    "inputs = np.array([[0, 1, 1], [1, 0, 0], [1, 0, 1]])\n",
    "outputs = np.array([[1, 0, 1]]).T\n",
    "\n",
    "# train the neural network\n",
    "neural_net.train(inputs, outputs, 50)\n",
    "\n",
    "test_inputs = np.array([1, 0, 1])\n",
    "threshold = 0.5\n",
    "if neural_net.learn(test_inputs) >= threshold:\n",
    "    print(\"Our test example output is: 1\")\n",
    "else:\n",
    "    print(\"Our test example output is: 0\")"
   ]
  },
  {
   "cell_type": "code",
   "execution_count": 9,
   "metadata": {
    "colab": {
     "base_uri": "https://localhost:8080/",
     "height": 487
    },
    "executionInfo": {
     "elapsed": 359,
     "status": "ok",
     "timestamp": 1676121320750,
     "user": {
      "displayName": "JAYARAJ VISWANATHAN",
      "userId": "05592669160963016277"
     },
     "user_tz": -330
    },
    "id": "iHVhLBqc5e-S",
    "outputId": "14f8bdc2-b4d0-45a2-fc51-d837c5a38cd3"
   },
   "outputs": [
    {
     "data": {
      "text/html": [
       "<div>\n",
       "<style scoped>\n",
       "    .dataframe tbody tr th:only-of-type {\n",
       "        vertical-align: middle;\n",
       "    }\n",
       "\n",
       "    .dataframe tbody tr th {\n",
       "        vertical-align: top;\n",
       "    }\n",
       "\n",
       "    .dataframe thead th {\n",
       "        text-align: right;\n",
       "    }\n",
       "</style>\n",
       "<table border=\"1\" class=\"dataframe\">\n",
       "  <thead>\n",
       "    <tr style=\"text-align: right;\">\n",
       "      <th></th>\n",
       "      <th>CROP_Apple</th>\n",
       "      <th>CROP_Banana</th>\n",
       "      <th>CROP_Blackgram</th>\n",
       "      <th>CROP_ChickPea</th>\n",
       "      <th>CROP_Coconut</th>\n",
       "      <th>CROP_Coffee</th>\n",
       "      <th>CROP_Cotton</th>\n",
       "      <th>CROP_Grapes</th>\n",
       "      <th>CROP_Jute</th>\n",
       "      <th>CROP_KidneyBeans</th>\n",
       "      <th>...</th>\n",
       "      <th>CROP_Mango</th>\n",
       "      <th>CROP_MothBeans</th>\n",
       "      <th>CROP_MungBean</th>\n",
       "      <th>CROP_Muskmelon</th>\n",
       "      <th>CROP_Orange</th>\n",
       "      <th>CROP_Papaya</th>\n",
       "      <th>CROP_PigeonPeas</th>\n",
       "      <th>CROP_Pomegranate</th>\n",
       "      <th>CROP_Rice</th>\n",
       "      <th>CROP_Watermelon</th>\n",
       "    </tr>\n",
       "  </thead>\n",
       "  <tbody>\n",
       "    <tr>\n",
       "      <th>0</th>\n",
       "      <td>0</td>\n",
       "      <td>0</td>\n",
       "      <td>0</td>\n",
       "      <td>0</td>\n",
       "      <td>0</td>\n",
       "      <td>0</td>\n",
       "      <td>0</td>\n",
       "      <td>0</td>\n",
       "      <td>0</td>\n",
       "      <td>0</td>\n",
       "      <td>...</td>\n",
       "      <td>0</td>\n",
       "      <td>0</td>\n",
       "      <td>0</td>\n",
       "      <td>0</td>\n",
       "      <td>0</td>\n",
       "      <td>0</td>\n",
       "      <td>0</td>\n",
       "      <td>0</td>\n",
       "      <td>1</td>\n",
       "      <td>0</td>\n",
       "    </tr>\n",
       "    <tr>\n",
       "      <th>1</th>\n",
       "      <td>0</td>\n",
       "      <td>0</td>\n",
       "      <td>0</td>\n",
       "      <td>0</td>\n",
       "      <td>0</td>\n",
       "      <td>0</td>\n",
       "      <td>0</td>\n",
       "      <td>0</td>\n",
       "      <td>0</td>\n",
       "      <td>0</td>\n",
       "      <td>...</td>\n",
       "      <td>0</td>\n",
       "      <td>0</td>\n",
       "      <td>0</td>\n",
       "      <td>0</td>\n",
       "      <td>0</td>\n",
       "      <td>0</td>\n",
       "      <td>0</td>\n",
       "      <td>0</td>\n",
       "      <td>1</td>\n",
       "      <td>0</td>\n",
       "    </tr>\n",
       "    <tr>\n",
       "      <th>2</th>\n",
       "      <td>0</td>\n",
       "      <td>0</td>\n",
       "      <td>0</td>\n",
       "      <td>0</td>\n",
       "      <td>0</td>\n",
       "      <td>0</td>\n",
       "      <td>0</td>\n",
       "      <td>0</td>\n",
       "      <td>0</td>\n",
       "      <td>0</td>\n",
       "      <td>...</td>\n",
       "      <td>0</td>\n",
       "      <td>0</td>\n",
       "      <td>0</td>\n",
       "      <td>0</td>\n",
       "      <td>0</td>\n",
       "      <td>0</td>\n",
       "      <td>0</td>\n",
       "      <td>0</td>\n",
       "      <td>1</td>\n",
       "      <td>0</td>\n",
       "    </tr>\n",
       "    <tr>\n",
       "      <th>3</th>\n",
       "      <td>0</td>\n",
       "      <td>0</td>\n",
       "      <td>0</td>\n",
       "      <td>0</td>\n",
       "      <td>0</td>\n",
       "      <td>0</td>\n",
       "      <td>0</td>\n",
       "      <td>0</td>\n",
       "      <td>0</td>\n",
       "      <td>0</td>\n",
       "      <td>...</td>\n",
       "      <td>0</td>\n",
       "      <td>0</td>\n",
       "      <td>0</td>\n",
       "      <td>0</td>\n",
       "      <td>0</td>\n",
       "      <td>0</td>\n",
       "      <td>0</td>\n",
       "      <td>0</td>\n",
       "      <td>1</td>\n",
       "      <td>0</td>\n",
       "    </tr>\n",
       "    <tr>\n",
       "      <th>4</th>\n",
       "      <td>0</td>\n",
       "      <td>0</td>\n",
       "      <td>0</td>\n",
       "      <td>0</td>\n",
       "      <td>0</td>\n",
       "      <td>0</td>\n",
       "      <td>0</td>\n",
       "      <td>0</td>\n",
       "      <td>0</td>\n",
       "      <td>0</td>\n",
       "      <td>...</td>\n",
       "      <td>0</td>\n",
       "      <td>0</td>\n",
       "      <td>0</td>\n",
       "      <td>0</td>\n",
       "      <td>0</td>\n",
       "      <td>0</td>\n",
       "      <td>0</td>\n",
       "      <td>0</td>\n",
       "      <td>1</td>\n",
       "      <td>0</td>\n",
       "    </tr>\n",
       "    <tr>\n",
       "      <th>...</th>\n",
       "      <td>...</td>\n",
       "      <td>...</td>\n",
       "      <td>...</td>\n",
       "      <td>...</td>\n",
       "      <td>...</td>\n",
       "      <td>...</td>\n",
       "      <td>...</td>\n",
       "      <td>...</td>\n",
       "      <td>...</td>\n",
       "      <td>...</td>\n",
       "      <td>...</td>\n",
       "      <td>...</td>\n",
       "      <td>...</td>\n",
       "      <td>...</td>\n",
       "      <td>...</td>\n",
       "      <td>...</td>\n",
       "      <td>...</td>\n",
       "      <td>...</td>\n",
       "      <td>...</td>\n",
       "      <td>...</td>\n",
       "      <td>...</td>\n",
       "    </tr>\n",
       "    <tr>\n",
       "      <th>2195</th>\n",
       "      <td>0</td>\n",
       "      <td>0</td>\n",
       "      <td>0</td>\n",
       "      <td>0</td>\n",
       "      <td>0</td>\n",
       "      <td>1</td>\n",
       "      <td>0</td>\n",
       "      <td>0</td>\n",
       "      <td>0</td>\n",
       "      <td>0</td>\n",
       "      <td>...</td>\n",
       "      <td>0</td>\n",
       "      <td>0</td>\n",
       "      <td>0</td>\n",
       "      <td>0</td>\n",
       "      <td>0</td>\n",
       "      <td>0</td>\n",
       "      <td>0</td>\n",
       "      <td>0</td>\n",
       "      <td>0</td>\n",
       "      <td>0</td>\n",
       "    </tr>\n",
       "    <tr>\n",
       "      <th>2196</th>\n",
       "      <td>0</td>\n",
       "      <td>0</td>\n",
       "      <td>0</td>\n",
       "      <td>0</td>\n",
       "      <td>0</td>\n",
       "      <td>1</td>\n",
       "      <td>0</td>\n",
       "      <td>0</td>\n",
       "      <td>0</td>\n",
       "      <td>0</td>\n",
       "      <td>...</td>\n",
       "      <td>0</td>\n",
       "      <td>0</td>\n",
       "      <td>0</td>\n",
       "      <td>0</td>\n",
       "      <td>0</td>\n",
       "      <td>0</td>\n",
       "      <td>0</td>\n",
       "      <td>0</td>\n",
       "      <td>0</td>\n",
       "      <td>0</td>\n",
       "    </tr>\n",
       "    <tr>\n",
       "      <th>2197</th>\n",
       "      <td>0</td>\n",
       "      <td>0</td>\n",
       "      <td>0</td>\n",
       "      <td>0</td>\n",
       "      <td>0</td>\n",
       "      <td>1</td>\n",
       "      <td>0</td>\n",
       "      <td>0</td>\n",
       "      <td>0</td>\n",
       "      <td>0</td>\n",
       "      <td>...</td>\n",
       "      <td>0</td>\n",
       "      <td>0</td>\n",
       "      <td>0</td>\n",
       "      <td>0</td>\n",
       "      <td>0</td>\n",
       "      <td>0</td>\n",
       "      <td>0</td>\n",
       "      <td>0</td>\n",
       "      <td>0</td>\n",
       "      <td>0</td>\n",
       "    </tr>\n",
       "    <tr>\n",
       "      <th>2198</th>\n",
       "      <td>0</td>\n",
       "      <td>0</td>\n",
       "      <td>0</td>\n",
       "      <td>0</td>\n",
       "      <td>0</td>\n",
       "      <td>1</td>\n",
       "      <td>0</td>\n",
       "      <td>0</td>\n",
       "      <td>0</td>\n",
       "      <td>0</td>\n",
       "      <td>...</td>\n",
       "      <td>0</td>\n",
       "      <td>0</td>\n",
       "      <td>0</td>\n",
       "      <td>0</td>\n",
       "      <td>0</td>\n",
       "      <td>0</td>\n",
       "      <td>0</td>\n",
       "      <td>0</td>\n",
       "      <td>0</td>\n",
       "      <td>0</td>\n",
       "    </tr>\n",
       "    <tr>\n",
       "      <th>2199</th>\n",
       "      <td>0</td>\n",
       "      <td>0</td>\n",
       "      <td>0</td>\n",
       "      <td>0</td>\n",
       "      <td>0</td>\n",
       "      <td>1</td>\n",
       "      <td>0</td>\n",
       "      <td>0</td>\n",
       "      <td>0</td>\n",
       "      <td>0</td>\n",
       "      <td>...</td>\n",
       "      <td>0</td>\n",
       "      <td>0</td>\n",
       "      <td>0</td>\n",
       "      <td>0</td>\n",
       "      <td>0</td>\n",
       "      <td>0</td>\n",
       "      <td>0</td>\n",
       "      <td>0</td>\n",
       "      <td>0</td>\n",
       "      <td>0</td>\n",
       "    </tr>\n",
       "  </tbody>\n",
       "</table>\n",
       "<p>2200 rows × 22 columns</p>\n",
       "</div>"
      ],
      "text/plain": [
       "      CROP_Apple  CROP_Banana  CROP_Blackgram  CROP_ChickPea  CROP_Coconut  \\\n",
       "0              0            0               0              0             0   \n",
       "1              0            0               0              0             0   \n",
       "2              0            0               0              0             0   \n",
       "3              0            0               0              0             0   \n",
       "4              0            0               0              0             0   \n",
       "...          ...          ...             ...            ...           ...   \n",
       "2195           0            0               0              0             0   \n",
       "2196           0            0               0              0             0   \n",
       "2197           0            0               0              0             0   \n",
       "2198           0            0               0              0             0   \n",
       "2199           0            0               0              0             0   \n",
       "\n",
       "      CROP_Coffee  CROP_Cotton  CROP_Grapes  CROP_Jute  CROP_KidneyBeans  ...  \\\n",
       "0               0            0            0          0                 0  ...   \n",
       "1               0            0            0          0                 0  ...   \n",
       "2               0            0            0          0                 0  ...   \n",
       "3               0            0            0          0                 0  ...   \n",
       "4               0            0            0          0                 0  ...   \n",
       "...           ...          ...          ...        ...               ...  ...   \n",
       "2195            1            0            0          0                 0  ...   \n",
       "2196            1            0            0          0                 0  ...   \n",
       "2197            1            0            0          0                 0  ...   \n",
       "2198            1            0            0          0                 0  ...   \n",
       "2199            1            0            0          0                 0  ...   \n",
       "\n",
       "      CROP_Mango  CROP_MothBeans  CROP_MungBean  CROP_Muskmelon  CROP_Orange  \\\n",
       "0              0               0              0               0            0   \n",
       "1              0               0              0               0            0   \n",
       "2              0               0              0               0            0   \n",
       "3              0               0              0               0            0   \n",
       "4              0               0              0               0            0   \n",
       "...          ...             ...            ...             ...          ...   \n",
       "2195           0               0              0               0            0   \n",
       "2196           0               0              0               0            0   \n",
       "2197           0               0              0               0            0   \n",
       "2198           0               0              0               0            0   \n",
       "2199           0               0              0               0            0   \n",
       "\n",
       "      CROP_Papaya  CROP_PigeonPeas  CROP_Pomegranate  CROP_Rice  \\\n",
       "0               0                0                 0          1   \n",
       "1               0                0                 0          1   \n",
       "2               0                0                 0          1   \n",
       "3               0                0                 0          1   \n",
       "4               0                0                 0          1   \n",
       "...           ...              ...               ...        ...   \n",
       "2195            0                0                 0          0   \n",
       "2196            0                0                 0          0   \n",
       "2197            0                0                 0          0   \n",
       "2198            0                0                 0          0   \n",
       "2199            0                0                 0          0   \n",
       "\n",
       "      CROP_Watermelon  \n",
       "0                   0  \n",
       "1                   0  \n",
       "2                   0  \n",
       "3                   0  \n",
       "4                   0  \n",
       "...               ...  \n",
       "2195                0  \n",
       "2196                0  \n",
       "2197                0  \n",
       "2198                0  \n",
       "2199                0  \n",
       "\n",
       "[2200 rows x 22 columns]"
      ]
     },
     "execution_count": 9,
     "metadata": {},
     "output_type": "execute_result"
    }
   ],
   "source": [
    "# transform into dummies for y_train (prognosis variable)\n",
    "y_train_dum = pd.get_dummies(y_train)\n",
    "y_train_dum"
   ]
  },
  {
   "cell_type": "code",
   "execution_count": 10,
   "metadata": {
    "id": "sELNWpJ86icn"
   },
   "outputs": [],
   "source": [
    "# import tensorflow and keras\n",
    "import tensorflow as tf\n",
    "from tensorflow.keras.models import Sequential   # used for initialize ANN model\n",
    "from tensorflow.keras import layers   # used for different layer structure\n",
    "from tensorflow.keras.layers import Dense"
   ]
  },
  {
   "cell_type": "code",
   "execution_count": 11,
   "metadata": {
    "id": "xd-c61x76kEd"
   },
   "outputs": [],
   "source": [
    "classifier = Sequential()"
   ]
  },
  {
   "cell_type": "code",
   "execution_count": 12,
   "metadata": {
    "id": "d8-XOk1W6l7X"
   },
   "outputs": [],
   "source": [
    "# adding first hidden layer with input layer. there is init parameter that represents how to initialize weights\n",
    "classifier.add(Dense(64, activation = \"relu\", input_dim = X_train.shape[1]))\n",
    "# adding second hidden layer\n",
    "classifier.add(Dense(32, activation = \"relu\"))\n",
    "classifier.add(Dense(16, activation = \"relu\"))\n",
    "# adding last layer\n",
    "classifier.add(Dense(y_train_dum.shape[1], activation = \"softmax\"))"
   ]
  },
  {
   "cell_type": "code",
   "execution_count": 13,
   "metadata": {
    "colab": {
     "base_uri": "https://localhost:8080/"
    },
    "executionInfo": {
     "elapsed": 784,
     "status": "ok",
     "timestamp": 1676121358570,
     "user": {
      "displayName": "JAYARAJ VISWANATHAN",
      "userId": "05592669160963016277"
     },
     "user_tz": -330
    },
    "id": "xX_YUgXJ6n0x",
    "outputId": "734f1e8d-fd24-46ed-e07b-8d895c0ca1a4"
   },
   "outputs": [
    {
     "name": "stdout",
     "output_type": "stream",
     "text": [
      "Model: \"sequential\"\n",
      "_________________________________________________________________\n",
      " Layer (type)                Output Shape              Param #   \n",
      "=================================================================\n",
      " dense (Dense)               (None, 64)                512       \n",
      "                                                                 \n",
      " dense_1 (Dense)             (None, 32)                2080      \n",
      "                                                                 \n",
      " dense_2 (Dense)             (None, 16)                528       \n",
      "                                                                 \n",
      " dense_3 (Dense)             (None, 22)                374       \n",
      "                                                                 \n",
      "=================================================================\n",
      "Total params: 3,494\n",
      "Trainable params: 3,494\n",
      "Non-trainable params: 0\n",
      "_________________________________________________________________\n"
     ]
    }
   ],
   "source": [
    "classifier.compile(optimizer = \"adam\", loss = \"categorical_crossentropy\", metrics = [\"accuracy\"])\n",
    "classifier.summary()"
   ]
  },
  {
   "cell_type": "code",
   "execution_count": 14,
   "metadata": {
    "colab": {
     "base_uri": "https://localhost:8080/"
    },
    "executionInfo": {
     "elapsed": 11510,
     "status": "ok",
     "timestamp": 1676121374676,
     "user": {
      "displayName": "JAYARAJ VISWANATHAN",
      "userId": "05592669160963016277"
     },
     "user_tz": -330
    },
    "id": "3DK39wAX6qHv",
    "outputId": "5b9572e8-c2aa-4491-f024-c1b3fa6f17db",
    "scrolled": false
   },
   "outputs": [
    {
     "name": "stdout",
     "output_type": "stream",
     "text": [
      "Epoch 1/100\n",
      "1100/1100 [==============================] - 9s 6ms/step - loss: 2.5618 - accuracy: 0.2273\n",
      "Epoch 2/100\n",
      "1100/1100 [==============================] - 7s 6ms/step - loss: 1.7549 - accuracy: 0.4282\n",
      "Epoch 3/100\n",
      "1100/1100 [==============================] - 8s 7ms/step - loss: 1.1260 - accuracy: 0.6332\n",
      "Epoch 4/100\n",
      "1100/1100 [==============================] - 7s 6ms/step - loss: 0.6561 - accuracy: 0.7709\n",
      "Epoch 5/100\n",
      "1100/1100 [==============================] - 7s 7ms/step - loss: 0.4525 - accuracy: 0.8282\n",
      "Epoch 6/100\n",
      "1100/1100 [==============================] - 7s 6ms/step - loss: 0.3557 - accuracy: 0.8723\n",
      "Epoch 7/100\n",
      "1100/1100 [==============================] - 8s 7ms/step - loss: 0.3067 - accuracy: 0.8805\n",
      "Epoch 8/100\n",
      "1100/1100 [==============================] - 8s 7ms/step - loss: 0.2902 - accuracy: 0.8927\n",
      "Epoch 9/100\n",
      "1100/1100 [==============================] - 7s 7ms/step - loss: 0.2289 - accuracy: 0.9077\n",
      "Epoch 10/100\n",
      "1100/1100 [==============================] - 7s 7ms/step - loss: 0.1938 - accuracy: 0.9250\n",
      "Epoch 11/100\n",
      "1100/1100 [==============================] - 8s 7ms/step - loss: 0.2091 - accuracy: 0.9164\n",
      "Epoch 12/100\n",
      "1100/1100 [==============================] - 8s 7ms/step - loss: 0.1861 - accuracy: 0.9327\n",
      "Epoch 13/100\n",
      "1100/1100 [==============================] - 8s 7ms/step - loss: 0.2244 - accuracy: 0.9232\n",
      "Epoch 14/100\n",
      "1100/1100 [==============================] - 7s 6ms/step - loss: 0.1739 - accuracy: 0.9314\n",
      "Epoch 15/100\n",
      "1100/1100 [==============================] - 7s 7ms/step - loss: 0.1719 - accuracy: 0.9414\n",
      "Epoch 16/100\n",
      "1100/1100 [==============================] - 8s 7ms/step - loss: 0.1648 - accuracy: 0.9382\n",
      "Epoch 17/100\n",
      "1100/1100 [==============================] - 8s 7ms/step - loss: 0.1540 - accuracy: 0.9441\n",
      "Epoch 18/100\n",
      "1100/1100 [==============================] - 7s 7ms/step - loss: 0.1554 - accuracy: 0.9445\n",
      "Epoch 19/100\n",
      "1100/1100 [==============================] - 8s 7ms/step - loss: 0.1421 - accuracy: 0.9486\n",
      "Epoch 20/100\n",
      "1100/1100 [==============================] - 7s 7ms/step - loss: 0.1388 - accuracy: 0.9459\n",
      "Epoch 21/100\n",
      "1100/1100 [==============================] - 8s 7ms/step - loss: 0.1527 - accuracy: 0.9436\n",
      "Epoch 22/100\n",
      "1100/1100 [==============================] - 7s 7ms/step - loss: 0.1483 - accuracy: 0.9445\n",
      "Epoch 23/100\n",
      "1100/1100 [==============================] - 8s 7ms/step - loss: 0.1315 - accuracy: 0.9509\n",
      "Epoch 24/100\n",
      "1100/1100 [==============================] - 8s 7ms/step - loss: 0.1387 - accuracy: 0.9532\n",
      "Epoch 25/100\n",
      "1100/1100 [==============================] - 8s 7ms/step - loss: 0.1367 - accuracy: 0.9473\n",
      "Epoch 26/100\n",
      "1100/1100 [==============================] - 8s 7ms/step - loss: 0.1217 - accuracy: 0.9595\n",
      "Epoch 27/100\n",
      "1100/1100 [==============================] - 8s 7ms/step - loss: 0.1253 - accuracy: 0.9555\n",
      "Epoch 28/100\n",
      "1100/1100 [==============================] - 8s 7ms/step - loss: 0.1237 - accuracy: 0.9536\n",
      "Epoch 29/100\n",
      "1100/1100 [==============================] - 8s 7ms/step - loss: 0.1425 - accuracy: 0.9500\n",
      "Epoch 30/100\n",
      "1100/1100 [==============================] - 8s 7ms/step - loss: 0.1258 - accuracy: 0.9555\n",
      "Epoch 31/100\n",
      "1100/1100 [==============================] - 6s 6ms/step - loss: 0.1287 - accuracy: 0.9486\n",
      "Epoch 32/100\n",
      "1100/1100 [==============================] - 5s 4ms/step - loss: 0.1199 - accuracy: 0.9555\n",
      "Epoch 33/100\n",
      "1100/1100 [==============================] - 6s 6ms/step - loss: 0.1188 - accuracy: 0.9555\n",
      "Epoch 34/100\n",
      "1100/1100 [==============================] - 5s 4ms/step - loss: 0.0979 - accuracy: 0.9623\n",
      "Epoch 35/100\n",
      "1100/1100 [==============================] - 5s 4ms/step - loss: 0.1299 - accuracy: 0.9514\n",
      "Epoch 36/100\n",
      "1100/1100 [==============================] - 4s 4ms/step - loss: 0.1049 - accuracy: 0.9559\n",
      "Epoch 37/100\n",
      "1100/1100 [==============================] - 4s 3ms/step - loss: 0.1208 - accuracy: 0.9627\n",
      "Epoch 38/100\n",
      "1100/1100 [==============================] - 5s 5ms/step - loss: 0.1075 - accuracy: 0.9618\n",
      "Epoch 39/100\n",
      "1100/1100 [==============================] - 4s 4ms/step - loss: 0.1176 - accuracy: 0.9541\n",
      "Epoch 40/100\n",
      "1100/1100 [==============================] - 4s 4ms/step - loss: 0.1008 - accuracy: 0.9600\n",
      "Epoch 41/100\n",
      "1100/1100 [==============================] - 4s 4ms/step - loss: 0.1022 - accuracy: 0.9650\n",
      "Epoch 42/100\n",
      "1100/1100 [==============================] - 5s 4ms/step - loss: 0.0965 - accuracy: 0.9609\n",
      "Epoch 43/100\n",
      "1100/1100 [==============================] - 4s 4ms/step - loss: 0.1260 - accuracy: 0.9495\n",
      "Epoch 44/100\n",
      "1100/1100 [==============================] - 4s 4ms/step - loss: 0.1512 - accuracy: 0.9600\n",
      "Epoch 45/100\n",
      "1100/1100 [==============================] - 4s 4ms/step - loss: 0.1009 - accuracy: 0.9664\n",
      "Epoch 46/100\n",
      "1100/1100 [==============================] - 4s 4ms/step - loss: 0.1022 - accuracy: 0.9645\n",
      "Epoch 47/100\n",
      "1100/1100 [==============================] - 4s 3ms/step - loss: 0.1013 - accuracy: 0.9609\n",
      "Epoch 48/100\n",
      "1100/1100 [==============================] - 4s 4ms/step - loss: 0.1400 - accuracy: 0.9514\n",
      "Epoch 49/100\n",
      "1100/1100 [==============================] - 4s 4ms/step - loss: 0.0930 - accuracy: 0.9686\n",
      "Epoch 50/100\n",
      "1100/1100 [==============================] - 4s 4ms/step - loss: 0.0947 - accuracy: 0.9709\n",
      "Epoch 51/100\n",
      "1100/1100 [==============================] - 4s 4ms/step - loss: 0.0972 - accuracy: 0.9655\n",
      "Epoch 52/100\n",
      "1100/1100 [==============================] - 4s 4ms/step - loss: 0.0969 - accuracy: 0.9655\n",
      "Epoch 53/100\n",
      "1100/1100 [==============================] - 5s 4ms/step - loss: 0.1638 - accuracy: 0.9473\n",
      "Epoch 54/100\n",
      "1100/1100 [==============================] - 5s 5ms/step - loss: 0.0908 - accuracy: 0.9650\n",
      "Epoch 55/100\n",
      "1100/1100 [==============================] - 5s 5ms/step - loss: 0.1042 - accuracy: 0.9659\n",
      "Epoch 56/100\n",
      "1100/1100 [==============================] - 5s 5ms/step - loss: 0.0769 - accuracy: 0.9673\n",
      "Epoch 57/100\n",
      "1100/1100 [==============================] - 5s 4ms/step - loss: 0.1017 - accuracy: 0.9627\n",
      "Epoch 58/100\n",
      "1100/1100 [==============================] - 5s 5ms/step - loss: 0.1129 - accuracy: 0.9550\n",
      "Epoch 59/100\n",
      "1100/1100 [==============================] - 5s 4ms/step - loss: 0.0832 - accuracy: 0.9686\n",
      "Epoch 60/100\n",
      "1100/1100 [==============================] - 5s 4ms/step - loss: 0.0803 - accuracy: 0.9659\n",
      "Epoch 61/100\n",
      "1100/1100 [==============================] - 5s 4ms/step - loss: 0.0988 - accuracy: 0.9618\n",
      "Epoch 62/100\n",
      "1100/1100 [==============================] - 5s 5ms/step - loss: 0.0914 - accuracy: 0.9636\n",
      "Epoch 63/100\n",
      "1100/1100 [==============================] - 5s 4ms/step - loss: 0.0891 - accuracy: 0.9645\n",
      "Epoch 64/100\n",
      "1100/1100 [==============================] - 5s 4ms/step - loss: 0.1133 - accuracy: 0.9641\n",
      "Epoch 65/100\n",
      "1100/1100 [==============================] - 4s 4ms/step - loss: 0.0892 - accuracy: 0.9682\n",
      "Epoch 66/100\n",
      "1100/1100 [==============================] - 4s 3ms/step - loss: 0.1007 - accuracy: 0.9636\n",
      "Epoch 67/100\n",
      "1100/1100 [==============================] - 4s 3ms/step - loss: 0.0717 - accuracy: 0.9741\n",
      "Epoch 68/100\n",
      "1100/1100 [==============================] - 4s 3ms/step - loss: 0.1347 - accuracy: 0.9514\n",
      "Epoch 69/100\n",
      "1100/1100 [==============================] - 4s 3ms/step - loss: 0.1030 - accuracy: 0.9705\n",
      "Epoch 70/100\n",
      "1100/1100 [==============================] - 4s 3ms/step - loss: 0.0865 - accuracy: 0.9677\n",
      "Epoch 71/100\n",
      "1100/1100 [==============================] - 4s 3ms/step - loss: 0.0946 - accuracy: 0.9650\n",
      "Epoch 72/100\n",
      "1100/1100 [==============================] - 4s 3ms/step - loss: 0.0959 - accuracy: 0.9650\n",
      "Epoch 73/100\n",
      "1100/1100 [==============================] - 4s 3ms/step - loss: 0.0956 - accuracy: 0.9700\n",
      "Epoch 74/100\n",
      "1100/1100 [==============================] - 4s 3ms/step - loss: 0.0712 - accuracy: 0.9736\n",
      "Epoch 75/100\n",
      "1100/1100 [==============================] - 4s 3ms/step - loss: 0.0949 - accuracy: 0.9655\n",
      "Epoch 76/100\n",
      "1100/1100 [==============================] - 4s 3ms/step - loss: 0.0944 - accuracy: 0.9659\n",
      "Epoch 77/100\n",
      "1100/1100 [==============================] - 4s 3ms/step - loss: 0.0979 - accuracy: 0.9668\n",
      "Epoch 78/100\n",
      "1100/1100 [==============================] - 4s 3ms/step - loss: 0.1038 - accuracy: 0.9636\n",
      "Epoch 79/100\n"
     ]
    },
    {
     "name": "stdout",
     "output_type": "stream",
     "text": [
      "1100/1100 [==============================] - 5s 4ms/step - loss: 0.0796 - accuracy: 0.9714\n",
      "Epoch 80/100\n",
      "1100/1100 [==============================] - 5s 4ms/step - loss: 0.0738 - accuracy: 0.9700\n",
      "Epoch 81/100\n",
      "1100/1100 [==============================] - 5s 4ms/step - loss: 0.0974 - accuracy: 0.9632\n",
      "Epoch 82/100\n",
      "1100/1100 [==============================] - 4s 4ms/step - loss: 0.1006 - accuracy: 0.9664\n",
      "Epoch 83/100\n",
      "1100/1100 [==============================] - 4s 3ms/step - loss: 0.0699 - accuracy: 0.9723\n",
      "Epoch 84/100\n",
      "1100/1100 [==============================] - 4s 3ms/step - loss: 0.0691 - accuracy: 0.9709\n",
      "Epoch 85/100\n",
      "1100/1100 [==============================] - 4s 3ms/step - loss: 0.1175 - accuracy: 0.9595\n",
      "Epoch 86/100\n",
      "1100/1100 [==============================] - 4s 3ms/step - loss: 0.0881 - accuracy: 0.9659\n",
      "Epoch 87/100\n",
      "1100/1100 [==============================] - 4s 4ms/step - loss: 0.0938 - accuracy: 0.9682\n",
      "Epoch 88/100\n",
      "1100/1100 [==============================] - 4s 4ms/step - loss: 0.1072 - accuracy: 0.9655\n",
      "Epoch 89/100\n",
      "1100/1100 [==============================] - 4s 4ms/step - loss: 0.0799 - accuracy: 0.9691\n",
      "Epoch 90/100\n",
      "1100/1100 [==============================] - 5s 4ms/step - loss: 0.0896 - accuracy: 0.9645\n",
      "Epoch 91/100\n",
      "1100/1100 [==============================] - 5s 4ms/step - loss: 0.0801 - accuracy: 0.9700\n",
      "Epoch 92/100\n",
      "1100/1100 [==============================] - 5s 4ms/step - loss: 0.0704 - accuracy: 0.9714\n",
      "Epoch 93/100\n",
      "1100/1100 [==============================] - 4s 4ms/step - loss: 0.1220 - accuracy: 0.9618\n",
      "Epoch 94/100\n",
      "1100/1100 [==============================] - 4s 4ms/step - loss: 0.0818 - accuracy: 0.9686\n",
      "Epoch 95/100\n",
      "1100/1100 [==============================] - 4s 4ms/step - loss: 0.0782 - accuracy: 0.9682\n",
      "Epoch 96/100\n",
      "1100/1100 [==============================] - 5s 4ms/step - loss: 0.0688 - accuracy: 0.9745\n",
      "Epoch 97/100\n",
      "1100/1100 [==============================] - 4s 4ms/step - loss: 0.0898 - accuracy: 0.9659\n",
      "Epoch 98/100\n",
      "1100/1100 [==============================] - 4s 3ms/step - loss: 0.1112 - accuracy: 0.9664\n",
      "Epoch 99/100\n",
      "1100/1100 [==============================] - 4s 4ms/step - loss: 0.0631 - accuracy: 0.9723\n",
      "Epoch 100/100\n",
      "1100/1100 [==============================] - 5s 4ms/step - loss: 0.0860 - accuracy: 0.9705\n"
     ]
    }
   ],
   "source": [
    "history = classifier.fit(X_train, y_train_dum, epochs = 100, batch_size = 2)"
   ]
  },
  {
   "cell_type": "code",
   "execution_count": 15,
   "metadata": {
    "id": "peFAPFmo6tak"
   },
   "outputs": [],
   "source": [
    "#history.history[\"accuracy\"]"
   ]
  },
  {
   "cell_type": "code",
   "execution_count": 16,
   "metadata": {
    "colab": {
     "base_uri": "https://localhost:8080/",
     "height": 295
    },
    "executionInfo": {
     "elapsed": 393,
     "status": "ok",
     "timestamp": 1676121387774,
     "user": {
      "displayName": "JAYARAJ VISWANATHAN",
      "userId": "05592669160963016277"
     },
     "user_tz": -330
    },
    "id": "lqHBE2iM6uqO",
    "outputId": "fec6b1f4-6c83-4c7a-f850-60ff24fe6fa4"
   },
   "outputs": [
    {
     "data": {
      "image/png": "[encoded data removed]",
      "text/plain": [
       "<Figure size 640x480 with 1 Axes>"
      ]
     },
     "metadata": {},
     "output_type": "display_data"
    }
   ],
   "source": [
    "import matplotlib.pyplot as plt\n",
    "plt.plot(history.history[\"accuracy\"])\n",
    "plt.title(\"Model accuracy\")\n",
    "plt.xlabel(\"Epoch\")\n",
    "plt.ylabel(\"Accuracy score\")\n",
    "plt.show()"
   ]
  },
  {
   "cell_type": "code",
   "execution_count": 17,
   "metadata": {
    "colab": {
     "base_uri": "https://localhost:8080/",
     "height": 295
    },
    "executionInfo": {
     "elapsed": 5,
     "status": "ok",
     "timestamp": 1676121394459,
     "user": {
      "displayName": "JAYARAJ VISWANATHAN",
      "userId": "05592669160963016277"
     },
     "user_tz": -330
    },
    "id": "Ymga18pS6vNm",
    "outputId": "f01eab20-1bba-429f-9cd2-d3549e391251"
   },
   "outputs": [
    {
     "data": {
      "image/png": "[encoded data removed]",
      "text/plain": [
       "<Figure size 640x480 with 1 Axes>"
      ]
     },
     "metadata": {},
     "output_type": "display_data"
    }
   ],
   "source": [
    "plt.plot(history.history[\"loss\"])\n",
    "plt.title(\"Model loss\")\n",
    "plt.xlabel(\"Epoch\")\n",
    "plt.ylabel(\"Loss\")\n",
    "plt.show()"
   ]
  },
  {
   "cell_type": "code",
   "execution_count": 18,
   "metadata": {
    "executionInfo": {
     "elapsed": 4,
     "status": "ok",
     "timestamp": 1676128136644,
     "user": {
      "displayName": "JAYARAJ VISWANATHAN",
      "userId": "05592669160963016277"
     },
     "user_tz": -330
    },
    "id": "kk5kyWBe6vUs"
   },
   "outputs": [],
   "source": [
    "from keras.models import load_model\n",
    "classifier.save('t1.h5')\n",
    "model = load_model('t1.h5')"
   ]
  },
  {
   "cell_type": "code",
   "execution_count": 19,
   "metadata": {
    "id": "B0yX3kx2qB31"
   },
   "outputs": [],
   "source": [
    "#!pip install gradio"
   ]
  },
  {
   "cell_type": "code",
   "execution_count": 20,
   "metadata": {
    "colab": {
     "base_uri": "https://localhost:8080/"
    },
    "executionInfo": {
     "elapsed": 1382,
     "status": "ok",
     "timestamp": 1676122081549,
     "user": {
      "displayName": "JAYARAJ VISWANATHAN",
      "userId": "05592669160963016277"
     },
     "user_tz": -330
    },
    "id": "prqsyedCplt2",
    "outputId": "0cfc1438-5d03-4627-fe3f-0d0a2970235f"
   },
   "outputs": [
    {
     "data": {
      "text/plain": [
       "'import gradio as gr\\nimport h5py as h5\\nf = h5.File(\"/content/t1.h5\", \"r\")\\ndatasetNames = [n for n in f.keys()]\\nfor n in datasetNames:\\n    print(n)'"
      ]
     },
     "execution_count": 20,
     "metadata": {},
     "output_type": "execute_result"
    }
   ],
   "source": [
    "'''import gradio as gr\n",
    "import h5py as h5\n",
    "f = h5.File(\"/content/t1.h5\", \"r\")\n",
    "datasetNames = [n for n in f.keys()]\n",
    "for n in datasetNames:\n",
    "    print(n)'''"
   ]
  },
  {
   "cell_type": "code",
   "execution_count": 21,
   "metadata": {
    "colab": {
     "base_uri": "https://localhost:8080/"
    },
    "executionInfo": {
     "elapsed": 5,
     "status": "ok",
     "timestamp": 1676123889557,
     "user": {
      "displayName": "JAYARAJ VISWANATHAN",
      "userId": "05592669160963016277"
     },
     "user_tz": -330
    },
    "id": "Hj-f7uBnr-aH",
    "outputId": "628d4d2e-e12c-4356-f2a3-e542203d0ff0"
   },
   "outputs": [
    {
     "data": {
      "text/plain": [
       "'import pickle\\nwith open(\"Tri_Hack.pkl\", \"wb\") as f:\\n  pickle.dump(classifier, f)'"
      ]
     },
     "execution_count": 21,
     "metadata": {},
     "output_type": "execute_result"
    }
   ],
   "source": [
    "'''import pickle\n",
    "with open(\"Tri_Hack.pkl\", \"wb\") as f:\n",
    "  pickle.dump(classifier, f)''' "
   ]
  },
  {
   "cell_type": "code",
   "execution_count": 22,
   "metadata": {
    "colab": {
     "base_uri": "https://localhost:8080/"
    },
    "executionInfo": {
     "elapsed": 755,
     "status": "ok",
     "timestamp": 1676123905968,
     "user": {
      "displayName": "JAYARAJ VISWANATHAN",
      "userId": "05592669160963016277"
     },
     "user_tz": -330
    },
    "id": "e-drLGT-sfRm",
    "outputId": "3b2fc600-6d49-4fec-87a3-11bbf5b8a7e9"
   },
   "outputs": [
    {
     "data": {
      "text/plain": [
       "'with open(\"Tri_Hack.pkl\", \"rb\") as f:\\n\\tclassifier  = pickle.load(f)'"
      ]
     },
     "execution_count": 22,
     "metadata": {},
     "output_type": "execute_result"
    }
   ],
   "source": [
    "'''with open(\"Tri_Hack.pkl\", \"rb\") as f:\n",
    "\tclassifier  = pickle.load(f)'''"
   ]
  },
  {
   "cell_type": "code",
   "execution_count": 23,
   "metadata": {
    "colab": {
     "base_uri": "https://localhost:8080/",
     "height": 616
    },
    "executionInfo": {
     "elapsed": 1001,
     "status": "ok",
     "timestamp": 1676131343490,
     "user": {
      "displayName": "JAYARAJ VISWANATHAN",
      "userId": "05592669160963016277"
     },
     "user_tz": -330
    },
    "id": "aUZv_svostPE",
    "outputId": "5145f082-3689-40e9-d796-52a1bfecfc18"
   },
   "outputs": [
    {
     "data": {
      "text/plain": [
       "'def make_prediction(nit, phs, pot, temp, hum, ph, rain):\\n    with open(\"Tri_Hack.pkl\", \"rb\") as f:\\n        history  = pickle.load(f)\\n        model = load_model(\\'t1.h5\\')\\n        #preds = history.predict([[nit, phs, pot, temp, hum, ph, rain]])\\n        preds2 = model.predict([[nit, phs, pot, temp, hum, ph, rain]]) \\n        #print(preds)\\n        #print(\"\\n\")\\n        print(preds2)\\n  \\n        max = 0\\n        for i in range(22) :\\n          if preds2[0][i] > max :\\n            max = preds2[0][i]\\n            ans = i\\n\\n        print(preds2[0][ans])\\n\\n        if ans == 0:\\n                return \"Rice\"\\n        elif ans == 1:\\n                return \"Maize\"\\n        elif ans == 2:\\n                return \"Chickpea\"\\n        elif ans == 3:\\n                return \"Kidney_Beans\"\\n        elif ans == 4:\\n                return \"Pigeon_Peas\"\\n        elif ans == 5:\\n                return \"Moth_Beans\"\\n        elif ans == 6:\\n                return \"Mung_Beans\"\\n        elif ans == 7:\\n                return \"Blackgram\"\\n        elif ans == 8:\\n                return \"lentil\"\\n        elif ans == 9:\\n                return \"Pomegranate\"\\n        elif ans == 10:\\n                return \"Banana\"\\n        elif ans == 11:\\n                return \"Mango\"\\n        elif ans == 12:\\n                return \"Grapes\"\\n        elif ans == 13:\\n                return \"Watermelon\"\\n        elif ans == 14:\\n                return \"Muskmelon\"\\n        elif ans == 15:\\n                return \"Apple\"\\n        elif ans == 16:\\n                return \"Orange\"\\n        elif ans == 17:\\n                return \"Papaya\"\\n        elif ans == 18:\\n                return \"Coconut\"\\n        elif ans == 19:\\n                return \"Cotton\"\\n        elif ans == 20:\\n                return \"Jute\"\\n        elif ans == 21:\\n                return \"Coffee\"\\n        else :\\n          return \"Nothing\" \\n\\n#make_prediction(80.23, 40.23, 40.12, 20.34, 80.11, 7.03, 202.34)\\n\\nnit_input = gr.Number(label = \"Enter Nitrogen Value\")\\nphs_input = gr.Number(label = \"Enter Phosphorus Value\")\\npot_input = gr.Number(label = \"Enter Potassium Value\")\\ntemp_input = gr.Number(label = \"Enter Temperature Value\")\\nhum_input = gr.Number(label = \"Enter Humidity Value\")\\nph_input = gr.Number(label = \"Enter Ph Value\")\\nrain_input = gr.Number(label = \"Enter Rainfall Value\")\\n\\n# We create the output\\noutput = gr.Textbox()\\n\\napp = gr.Interface(fn = make_prediction, inputs=[nit_input, phs_input, pot_input, temp_input, hum_input, ph_input, rain_input], outputs=output)\\napp.launch()\\n'"
      ]
     },
     "execution_count": 23,
     "metadata": {},
     "output_type": "execute_result"
    }
   ],
   "source": [
    "def make_prediction(nit, phs, pot, temp, hum, ph, rain):\n",
    "    with open(\"Tri_Hack.pkl\", \"rb\") as f:\n",
    "        history  = pickle.load(f)\n",
    "        model = load_model('t1.h5')\n",
    "        #preds = history.predict([[nit, phs, pot, temp, hum, ph, rain]])\n",
    "        preds2 = model.predict([[nit, phs, pot, temp, hum, ph, rain]]) \n",
    "        #print(preds)\n",
    "        #print(\"\\n\")\n",
    "        print(preds2)\n",
    "  \n",
    "        max = 0\n",
    "        for i in range(22) :\n",
    "          if preds2[0][i] > max :\n",
    "            max = preds2[0][i]\n",
    "            ans = i\n",
    "\n",
    "        print(preds2[0][ans])\n",
    "\n",
    "        if ans == 0:\n",
    "                return \"Rice\"\n",
    "        elif ans == 1:\n",
    "                return \"Maize\"\n",
    "        elif ans == 2:\n",
    "                return \"Chickpea\"\n",
    "        elif ans == 3:\n",
    "                return \"Kidney_Beans\"\n",
    "        elif ans == 4:\n",
    "                return \"Pigeon_Peas\"\n",
    "        elif ans == 5:\n",
    "                return \"Moth_Beans\"\n",
    "        elif ans == 6:\n",
    "                return \"Mung_Beans\"\n",
    "        elif ans == 7:\n",
    "                return \"Blackgram\"\n",
    "        elif ans == 8:\n",
    "                return \"lentil\"\n",
    "        elif ans == 9:\n",
    "                return \"Pomegranate\"\n",
    "        elif ans == 10:\n",
    "                return \"Banana\"\n",
    "        elif ans == 11:\n",
    "                return \"Mango\"\n",
    "        elif ans == 12:\n",
    "                return \"Grapes\"\n",
    "        elif ans == 13:\n",
    "                return \"Watermelon\"\n",
    "        elif ans == 14:\n",
    "                return \"Muskmelon\"\n",
    "        elif ans == 15:\n",
    "                return \"Apple\"\n",
    "        elif ans == 16:\n",
    "                return \"Orange\"\n",
    "        elif ans == 17:\n",
    "                return \"Papaya\"\n",
    "        elif ans == 18:\n",
    "                return \"Coconut\"\n",
    "        elif ans == 19:\n",
    "                return \"Cotton\"\n",
    "        elif ans == 20:\n",
    "                return \"Jute\"\n",
    "        elif ans == 21:\n",
    "                return \"Coffee\"\n",
    "        else :\n",
    "          return \"Nothing\" \n",
    "\n",
    "#make_prediction(80.23, 40.23, 40.12, 20.34, 80.11, 7.03, 202.34)\n",
    "\n",
    "nit_input = gr.Number(label = \"Enter Nitrogen Value\")\n",
    "phs_input = gr.Number(label = \"Enter Phosphorus Value\")\n",
    "pot_input = gr.Number(label = \"Enter Potassium Value\")\n",
    "temp_input = gr.Number(label = \"Enter Temperature Value\")\n",
    "hum_input = gr.Number(label = \"Enter Humidity Value\")\n",
    "ph_input = gr.Number(label = \"Enter Ph Value\")\n",
    "rain_input = gr.Number(label = \"Enter Rainfall Value\")\n",
    "\n",
    "# We create the output\n",
    "output = gr.Textbox()\n",
    "\n",
    "app = gr.Interface(fn = make_prediction, inputs=[nit_input, phs_input, pot_input, temp_input, hum_input, ph_input, rain_input], outputs=output)\n",
    "app.launch()\n"
   ]
  },
  {
   "cell_type": "code",
   "execution_count": null,
   "metadata": {},
   "outputs": [],
   "source": []
  }
 ],
 "metadata": {
  "colab": {
   "authorship_tag": "ABX9TyNb7itTPggBDe5y5aZ56AsQ",
   "provenance": []
  },
  "kernelspec": {
   "display_name": "Python 3 (ipykernel)",
   "language": "python",
   "name": "python3"
  },
  "language_info": {
   "codemirror_mode": {
    "name": "ipython",
    "version": 3
   },
   "file_extension": ".py",
   "mimetype": "text/x-python",
   "name": "python",
   "nbconvert_exporter": "python",
   "pygments_lexer": "ipython3",
   "version": "3.9.13"
  }
 },
 "nbformat": 4,
 "nbformat_minor": 1
}
